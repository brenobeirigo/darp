{
  "cells": [
    {
      "cell_type": "markdown",
      "metadata": {},
      "source": [
        "## Solving the Instances\n",
        "\n",
        "### Import Statements\n"
      ],
      "id": "4557f295"
    },
    {
      "cell_type": "code",
      "metadata": {},
      "source": [
        "import os\n",
        "import sys\n",
        "sys.path.append(os.getcwd())\n",
        "from config import FOLDER_DATA_RAW_INSTANCES, FOLDER_RESULTS\n",
        "\n",
        "from src.solver.darp import Darp\n",
        "from src.instance import parser as instance_parser\n",
        "from src.solution import parser as solution_parser\n",
        "import src.plot.route as route_plot\n",
        "import json\n",
        "import logging"
      ],
      "id": "c4b7853c",
      "execution_count": null,
      "outputs": []
    },
    {
      "cell_type": "markdown",
      "metadata": {},
      "source": [
        "- `import os` and `import sys`: These are standard Python modules for interacting with the operating system and Python runtime environment.\n",
        "- `sys.path.append(os.getcwd())`: Adds the current working directory to the system path. This allows for importing modules from the current directory.\n",
        "- `from config import ...`: Imports specific variables from a configuration module.\n",
        "- Imports from `src`: These imports suggest the script is part of a modular project structure, with separate modules for solving (`solver.darp`), parsing (`instance.parser`, `solution.parser`), and plotting (`plot.route`) related to DARP.\n",
        "\n",
        "### Logging Configuration\n"
      ],
      "id": "060bd694"
    },
    {
      "cell_type": "code",
      "metadata": {},
      "source": [
        "format = \"%(asctime)s | %(name)s | %(levelname)s | %(message)s\"\n",
        "logging.basicConfig(level=logging.INFO, format=format)\n",
        "logger = logging.getLogger()"
      ],
      "id": "5c789050",
      "execution_count": null,
      "outputs": []
    },
    {
      "cell_type": "markdown",
      "metadata": {},
      "source": [
        "- Configures the logging system to display time, logger name, log level, and the log message.\n",
        "- Sets the logging level to `INFO`. Change this to `DEBUG` to see more detailed log messages.\n",
        "\n",
        "### Load and Process Instances\n"
      ],
      "id": "aae0869f"
    },
    {
      "cell_type": "code",
      "metadata": {},
      "source": [
        "instance_folder = os.path.join(FOLDER_DATA_RAW_INSTANCES, \"darp_cordeau_2006\")\n",
        "instance_filenames = os.listdir(instance_folder)\n",
        "\n",
        "result_folder = os.path.join(FOLDER_RESULTS, \"darp_mip\")\n",
        "os.makedirs(result_folder, exist_ok=True)"
      ],
      "id": "701f4675",
      "execution_count": null,
      "outputs": []
    },
    {
      "cell_type": "markdown",
      "metadata": {},
      "source": [
        "- Determines the folder where DARP instances are stored and lists all files in it.\n",
        "- Creates a results folder for storing the output, avoiding errors if the folder already exists (`exist_ok=True`).\n",
        "\n",
        "### Main Processing Loop\n"
      ],
      "id": "129d5e0b"
    },
    {
      "cell_type": "code",
      "metadata": {},
      "source": [
        "for filename in instance_filenames:\n",
        "    logger.info(filename)\n",
        "    filepath = os.path.join(instance_folder, filename)\n",
        "    instance = instance_parser.parse_instance_from_filepath(\n",
        "        filepath, instance_parser=instance_parser.PARSER_TYPE_CORDEAU\n",
        "    )\n",
        "\n",
        "    model = Darp(**instance.get_data())\n",
        "    model.build()\n",
        "    result = model.solve()\n",
        "    \n",
        "    logger.info(result[\"solver\"][\"sol_objvalue\"])\n",
        "\n",
        "    solution_obj = solution_parser.parse_solution_dict(result)\n",
        "    \n",
        "    sol_filepath = f\"{os.path.join(result_folder, filename)}.json\"\n",
        "    with open(sol_filepath, \"w\") as outfile:\n",
        "        json.dump(result, outfile, indent=4)\n",
        "    \n",
        "    fig, ax = route_plot.plot_vehicle_routes(\n",
        "        instance,\n",
        "        solution_obj,\n",
        "        jointly=True,\n",
        "        figsize=(10, 10),\n",
        "        show_arrows=False,\n",
        "        show_node_labels=False,\n",
        "    )\n",
        "\n",
        "    fig_filepath = f\"{os.path.join(result_folder, filename)}.pdf\"\n",
        "    fig.savefig(fig_filepath, bbox_inches=\"tight\")"
      ],
      "id": "ffa07091",
      "execution_count": null,
      "outputs": []
    },
    {
      "cell_type": "markdown",
      "metadata": {},
      "source": [
        "- Iterates over each DARP instance file.\n",
        "- Parses the instance and creates a DARP model.\n",
        "- Solves the model and logs the solution's objective value.\n",
        "- Parses the solution and saves it as a JSON file.\n",
        "- Plots the vehicle routes and saves the plot as a PDF file."
      ],
      "id": "24b1252f"
    },
    {
      "cell_type": "markdown",
      "metadata": {},
      "source": [
        "---\n",
        "\n",
        "This {python} documentation provides a detailed overview of the script, explaining each section and its purpose in the context of solving and visualizing DARP instances."
      ],
      "id": "23169df9"
    }
  ],
  "metadata": {
    "kernelspec": {
      "display_name": "Python 3",
      "language": "python",
      "name": "python3"
    }
  },
  "nbformat": 4,
  "nbformat_minor": 5
}