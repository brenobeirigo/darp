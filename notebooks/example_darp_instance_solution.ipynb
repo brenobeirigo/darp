{
  "cells": [
    {
      "cell_type": "raw",
      "metadata": {},
      "source": [
        "---\n",
        "# quarto render c:/Users/AlvesBeirigoB/OneDrive/pkm/PARA/Area/dev/darp/notebooks/example_darp_instance_solution.qmd --to ipynb\n",
        "execute:\n",
        "  freeze: auto  # re-render only when source changes\n",
        "---"
      ],
      "id": "6f1578a6"
    },
    {
      "cell_type": "markdown",
      "metadata": {},
      "source": [
        "# Tutorial: Solving and Visualizing a Dial-A-Ride Problem (DARP) with Python\n",
        "\n",
        "This tutorial demonstrates how to solve a *Dial-A-Ride Problem* (DARP) using a custom Python package and visualize the solution.\n",
        "We will cover structuring the project, loading DARP instances, building and solving MILP models, and plotting vehicle routes.\n",
        "\n",
        "## The Problem\n",
        "\n",
        "The *Dial-A-Ride Problem* (DARP) is a transportation and logistics challenge focusing on efficiently routing a fleet of vehicles, denoted by $k \\in K$, to service passengers at designated pickup ($i \\in P$) and drop-off ($j \\in D$) points.\n",
        "The goal is to minimize the total travel cost, $c_{ijk}$, while ensuring each route starts and ends at a depot node ($o \\in O$).\n",
        "Crucially, DARP requires adherence to users' specified earliest and latest service times, adding a layer of complexity to the scheduling process.\n",
        "\n",
        "## Step 1: Environment Setup\n",
        "\n",
        "To ensure smooth operation within a Jupyter Notebook, we first set up our environment:\n"
      ],
      "id": "b8404af0"
    },
    {
      "cell_type": "code",
      "metadata": {},
      "source": [
        "import sys\n",
        "sys.path.append(\"../\")  # Adding parent directory to the path\n",
        "\n",
        "# IPython magic commands for auto-reloading modules\n",
        "%load_ext autoreload\n",
        "%autoreload 2"
      ],
      "id": "bb95705d",
      "execution_count": null,
      "outputs": []
    },
    {
      "cell_type": "markdown",
      "metadata": {},
      "source": [
        "This setup facilitates importing modules from outside the notebook directory and auto-reloads any changed modules.\n",
        "\n",
        "## Step 2: Project Structure and Importing Modules\n",
        "\n",
        "The project follows a structure inspired by the [Cookiecutter Data Science](https://drivendata.github.io/cookiecutter-data-science/) standard, a widely recognized template for organizing data science projects.\n",
        "This structure is designed to keep the project organized and manageable, ensuring a logical separation of data, models, solutions, and visualizations.\n",
        "\n",
        "### Project Structure\n",
        "\n",
        "The project has several key directories:\n",
        "\n",
        "- **`data`**: Stores all project-related data, including raw and processed datasets.\n",
        "- **`notebooks`**: Contains Jupyter notebooks, where we execute our data processing, modeling, and visualization steps. The code for solving and visualizing the DARP is primarily located here.\n",
        "- **`references`**: Includes reference materials like papers and manuals relevant to the project.\n",
        "- **`reports/figures`**: Used for storing generated figures and plots.\n",
        "- **`reports/tables`**: Used for storing generated tables (.csv).\n",
        "- **`src`**: The source code directory with various subdirectories:\n",
        "  - **`data`**: Contains `parser.py`, which handles parsing and loading data.\n",
        "  - **`model`**: For model definitions and data schemas (e.g., \"Vehicle\", \"Node\", \"Request\" classes).\n",
        "  - **`solution`**: Code related to processing or interpreting solutions.\n",
        "  - **`solver`**: Includes `darp.py`, the implementation of the DARP solver.\n",
        "  - **`visualization`**: Code dedicated to data visualization (e.g., plot routes).\n",
        "\n",
        "### Importing Modules\n",
        "\n",
        "Now, let's import the required functions and classes from our `src` package:\n"
      ],
      "id": "467c3290"
    },
    {
      "cell_type": "code",
      "metadata": {},
      "source": [
        "from time import time\n",
        "import matplotlib.pyplot as plt\n",
        "from pprint import pprint\n",
        "\n",
        "# Parser to load and parse DARP instance data\n",
        "from src.data.parser import parse_instance_from_filepath\n",
        "\n",
        "# Darp class for building and solving the DARP model\n",
        "from src.solver.darp import Darp\n",
        "\n",
        "# Function for plotting vehicle routes\n",
        "from src.visualization.route import plot_vehicle_route"
      ],
      "id": "1c44e31e",
      "execution_count": null,
      "outputs": []
    },
    {
      "cell_type": "markdown",
      "metadata": {},
      "source": [
        "These imports bring in functionalities for loading DARP instances, solving them, and visualizing the results.\n",
        "By organizing the code into different modules within the `src` package, we enhance the maintainability and reusability of our code, making it easier to navigate and adapt for various analyses.\n",
        "\n",
        "## Step 3: Load and Initialize DARP Instance\n",
        "\n",
        "We load the DARP instance, and parse it into a Pandas DataFrame for a tabular view of the instance data related to nodes.\n",
        "\n",
        "### Instance structure\n",
        "\n",
        "A DARP instance is as follows:\n",
        "\n",
        "```raw\n",
        "4 8 480 3 30\n",
        " 0   0.000   0.000   0   0    0  480\n",
        " 1  -1.198  -5.164   3   1    0 1440\n",
        " 2   5.573   7.114   3   1    0 1440\n",
        " 3  -6.614   0.072   3   1    0 1440\n",
        " 4  -7.374  -1.107   3   1    0 1440\n",
        " 5  -9.251   8.321   3   1    0 1440\n",
        " 6   6.498  -6.036   3   1    0 1440\n",
        " 7   0.861   6.903   3   1    0 1440\n",
        " 8   3.904  -5.261   3   1    0 1440\n",
        " 9   6.687   6.731   3  -1  402  417\n",
        "10  -2.192  -9.210   3  -1  322  337\n",
        "11  -1.061   8.752   3  -1  179  194\n",
        "12   6.883   0.882   3  -1  138  153\n",
        "13   5.586  -1.554   3  -1   82   97\n",
        "14  -9.865   1.398   3  -1   49   64\n",
        "15  -9.800   5.697   3  -1  400  415\n",
        "16   1.271   1.018   3  -1  298  313\n",
        "17   0.000   0.000   0   0    0  480\n",
        "```\n",
        "\n",
        "The first line `3 8 480 3 30` features, in turn:\n",
        "\n",
        "- $|K|$: number of vehicles (`4`),\n",
        "- $|P|$: number of customers (`8`),\n",
        "- $T$: maximum route duration (`480`),\n",
        "- $|Q|$: vehicle capacity (`3`),\n",
        "- $L$: maximum ride time (`30`).\n",
        "\n",
        "The subsequent lines comprise the columns:\n",
        "\n",
        "- node id ($i \\in N$),\n",
        "- x coordinate,\n",
        "- y coordinate,\n",
        "- service duration at node ($d$)\n",
        "- load (positive for $i \\in P$, negative for $i \\in D$, zero for $i=\\text{depot}$),\n",
        "- earliest arrival time ($e$),\n",
        "- latest arrival time ($l$).\n",
        "\n",
        "The second line `0   0.000   0.000   0   0    0  480` corresponds to the depot data.\n",
        "\n",
        "The following $n=|P|=4$ lines feature the pickup node data:\n",
        "\n",
        "```raw\n",
        " 1  -1.198  -5.164   3   1    0 1440\n",
        " 2   5.573   7.114   3   1    0 1440\n",
        " 3  -6.614   0.072   3   1    0 1440\n",
        " 4  -7.374  -1.107   3   1    0 1440\n",
        " 5  -9.251   8.321   3   1    0 1440\n",
        " 6   6.498  -6.036   3   1    0 1440\n",
        " 7   0.861   6.903   3   1    0 1440\n",
        " 8   3.904  -5.261   3   1    0 1440\n",
        "```\n",
        "\n",
        "The following $n=|D|=8$ lines feature the destination node data:\n",
        "\n",
        "```raw\n",
        " 9   6.687   6.731   3  -1  402  417\n",
        "10  -2.192  -9.210   3  -1  322  337\n",
        "11  -1.061   8.752   3  -1  179  194\n",
        "12   6.883   0.882   3  -1  138  153\n",
        "13   5.586  -1.554   3  -1   82   97\n",
        "14  -9.865   1.398   3  -1   49   64\n",
        "15  -9.800   5.697   3  -1  400  415\n",
        "16   1.271   1.018   3  -1  298  313\n",
        "```\n",
        "\n",
        "The last line `33   0.000   0.000   0   0    0  480` corresponds to the destination depot data.\n",
        "This node is replicated so all vehicles have to return to it.\n",
        "\n",
        "Hence,  for example, passenger $i=1$:\n",
        "\n",
        "- shall be picked up at node $1 \\in P$ with load $q_1 = 1$,\n",
        "- shall be picked up point $(x,y)=(-1.198, -5.164)$,\n",
        "- shall be picked up within time window $(e_1, l_1) = (0, 1440)$,\n",
        "- takes a pickup service duration $d_1=3$.\n",
        "\n",
        "Later, passenger $1$:\n",
        "\n",
        "- shall be delivered at node $n+i = 9$ with load $q_{9} = -1$ (i.e., $q_{9} = -q_1$),\n",
        "- shall be delivered at point $(x,y)=(6.687, 6.731)$,\n",
        "- shall be delivered within time window $(e_{9}, l_{9}) = (402, 417)$,\n",
        "- takes a delivery service duration $d_{9}=3$.\n"
      ],
      "id": "c9b97e06"
    },
    {
      "cell_type": "code",
      "metadata": {},
      "source": [
        "# Path to the DARP instance data\n",
        "instance_filepath = \"../data/raw/darp_instances/darp_cordeau_2006/a4-8\"\n",
        "\n",
        "t_start = time()\n",
        "instance_obj = parse_instance_from_filepath(instance_filepath)\n",
        "\n",
        "#Loading time is measured for performance analysis\n",
        "print(\"Time to load instance:\", time() - t_start)\n",
        "\n",
        "# The instance configuration\n",
        "pprint(instance_obj.config)"
      ],
      "id": "c192c041",
      "execution_count": null,
      "outputs": []
    },
    {
      "cell_type": "markdown",
      "metadata": {},
      "source": [
        "DataFrame view of the instance:\n"
      ],
      "id": "9ffd9985"
    },
    {
      "cell_type": "code",
      "metadata": {},
      "source": [
        "# Displaying the instance data as a DataFrame for verification\n",
        "df_instance = instance_obj.nodeset_df\n",
        "df_instance"
      ],
      "id": "e1edbf4d",
      "execution_count": null,
      "outputs": []
    },
    {
      "cell_type": "markdown",
      "metadata": {},
      "source": [
        "Spread of the nodes colored by type (pickup, dropoff, or depot):\n"
      ],
      "id": "a2947f95"
    },
    {
      "cell_type": "code",
      "metadata": {},
      "source": [
        "import seaborn as sns\n",
        "sns.scatterplot(df_instance, x=\"x\", y=\"y\", hue=\"node_type\")"
      ],
      "id": "acffdcab",
      "execution_count": null,
      "outputs": []
    },
    {
      "cell_type": "markdown",
      "metadata": {},
      "source": [
        "## Step 4: Model Preparation and Building\n",
        "\n",
        "The DARP model is initialized, and its components are set up:\n"
      ],
      "id": "a523295c"
    },
    {
      "cell_type": "code",
      "metadata": {},
      "source": [
        "# Initializing the DARP model\n",
        "t_start = time()\n",
        "model = Darp(instance_obj)\n",
        "print(\"Time to initialize the model:\", time() - t_start)\n",
        "\n",
        "# Building the model with constraints, variables, and objective function\n",
        "t_start = time()\n",
        "model.build()\n",
        "print(\"Time to build the model:\", time() - t_start)"
      ],
      "id": "4b0aed74",
      "execution_count": null,
      "outputs": []
    },
    {
      "cell_type": "markdown",
      "metadata": {},
      "source": [
        "This step prepares the model with all necessary components for optimization.\n",
        "\n",
        "## Step 5: Solve the Model\n",
        "\n",
        "We solve the model to find optimal routes for vehicles:\n"
      ],
      "id": "8437fcc3"
    },
    {
      "cell_type": "code",
      "metadata": {},
      "source": [
        "# Solving the model to minimize costs\n",
        "t_start = time()\n",
        "solution_obj = model.solve()\n",
        "print(\"Time to solve the model:\", time() - t_start)"
      ],
      "id": "0fbae69a",
      "execution_count": null,
      "outputs": []
    },
    {
      "cell_type": "markdown",
      "metadata": {},
      "source": [
        "`solution_obj` will contain the optimized vehicle routes.\n",
        "\n",
        "## Step 6: Analyzing the Solution\n",
        "\n",
        "We explore the solution's output.\n",
        "\n",
        "### Solver stats\n",
        "\n",
        "Solver output:\n"
      ],
      "id": "d9849472"
    },
    {
      "cell_type": "code",
      "metadata": {},
      "source": [
        "# Detailed solver-specific information\n",
        "pprint(solution_obj.solver_stats)"
      ],
      "id": "b7acaac3",
      "execution_count": null,
      "outputs": []
    },
    {
      "cell_type": "markdown",
      "metadata": {},
      "source": [
        "### Vehicle routes\n",
        "\n",
        "#### String Representation\n",
        "\n",
        "Vehicle routes are presented as strings featuring:\n",
        "\n",
        "  - Vehicle id\n",
        "  - `D`: Route total duration (e.g., for vehicle `4`: 466.708 - 98.245 = 368.463)\n",
        "  - `Q`: Max. occupancy\n",
        "  - `W`: Avg. total waiting at pickup and delivery nodes (vehicle arrived earlier than earliest time window)\n",
        "  - `T`: Avg. transit time (total ride time / number of requests)\n",
        "\n",
        "Then, routes are presented as a sequence of nodes:\n",
        "\n",
        "  - Node id\n",
        "  - `w`: Slack time (vehicle arrives at time `t`, waits `w` time units until `b`)\n",
        "  - `b`: Arrival time\n",
        "  - `t`: Ride delay (only at dropoff nodes)\n",
        "  - `q`: Vehicle current capacity\n"
      ],
      "id": "5cf62c4a"
    },
    {
      "cell_type": "code",
      "metadata": {},
      "source": [
        "# Show vehicle routes as a dictionary (key=vehicle id, value=vehicle route info)\n",
        "pprint(solution_obj.vehicle_routes)"
      ],
      "id": "dd9e8e66",
      "execution_count": null,
      "outputs": []
    },
    {
      "cell_type": "markdown",
      "metadata": {},
      "source": [
        "#### Data Frame\n",
        "\n",
        "In the following, we present the routes as a Pandas DataFrame.\n"
      ],
      "id": "b47b81ab"
    },
    {
      "cell_type": "code",
      "metadata": {},
      "source": [
        "# Notice that a \"dist\" function is passed to calculate the distances\n",
        "# between subsequent nodes. This distance function belongs to the DARP model.\n",
        "df = solution_obj.route_df(fn_dist=model.dist)\n",
        "df.to_csv(\"../reports/tables/routes_a4-8.csv\")\n",
        "df"
      ],
      "id": "5ed08520",
      "execution_count": null,
      "outputs": []
    },
    {
      "cell_type": "markdown",
      "metadata": {},
      "source": [
        "This option allows us to quickly filter each vehicle's output.\n",
        "For example, if we want to see only the nodes serviced by vehicle 0:\n"
      ],
      "id": "e3a2c81f"
    },
    {
      "cell_type": "code",
      "metadata": {},
      "source": [
        "df_0 = df[df[\"vehicle_id\"]==0][[\"vehicle_load\", \"alias\"]]\n",
        "df_0"
      ],
      "id": "f9a9550c",
      "execution_count": null,
      "outputs": []
    },
    {
      "cell_type": "markdown",
      "metadata": {},
      "source": [
        "### Summary stats\n"
      ],
      "id": "3f76a00a"
    },
    {
      "cell_type": "code",
      "metadata": {},
      "source": [
        "# Summarizing the solution\n",
        "pprint(solution_obj.summary)"
      ],
      "id": "9cba46d0",
      "execution_count": null,
      "outputs": []
    },
    {
      "cell_type": "markdown",
      "metadata": {},
      "source": [
        "## Step 7: Visualizing Vehicle Routes\n",
        "\n",
        "Finally, we visualize the routes for each vehicle:\n"
      ],
      "id": "d95312fa"
    },
    {
      "cell_type": "code",
      "metadata": {},
      "source": [
        "# Creating a 2x2 grid for plotting routes\n",
        "fig, axs = plt.subplots(2, 2, figsize=(10, 10))\n",
        "axs = axs.flatten()\n",
        "\n",
        "# Iterating through vehicle routes for visualization\n",
        "for vehicle_id, vehicle_sol in solution_obj.vehicle_routes.items():\n",
        "    df_vehicle_solution = df[df[\"vehicle_id\"] == vehicle_id].copy()\n",
        "    title_plot = f\"Route vehicle {vehicle_id} ({vehicle_sol.summary()})\"\n",
        "    plot_vehicle_route(axs[vehicle_id], df_vehicle_solution, title=title_plot)\n",
        "\n",
        "plt.tight_layout()\n",
        "\n",
        "# Saving the figure for reports and further analysis\n",
        "plt.savefig(\"../reports/figures/routes_panel.svg\")"
      ],
      "id": "48559c3c",
      "execution_count": null,
      "outputs": []
    },
    {
      "cell_type": "markdown",
      "metadata": {},
      "source": [
        "Each subplot in the 2x2 grid displays a different vehicle's route, providing a comprehensive view of the solution.\n",
        "\n",
        "## Conclusion\n",
        "\n",
        "This tutorial illustrated how to employ a custom Python  package to solve and visualize DARP instances.\n",
        "The primary emphasis of this approach is on clarity and ease of presentation, allowing us to focus on the analytical aspects of the problem while leaving the intricacies of implementation to the underlying package.\n",
        "\n",
        "By encapsulating the more complex aspects of the code within the `src` package, we achieve a clean and intuitive interface for interacting with the DARP models.\n",
        "This structure not only simplifies the workflow for users but also enhances maintainability and scalability of the codebase.\n",
        "It's an illustration of how well-organized code and thoughtful abstraction can make a significant difference in data science and optimization tasks."
      ],
      "id": "56ba0223"
    }
  ],
  "metadata": {
    "kernelspec": {
      "name": "python3",
      "language": "python",
      "display_name": "Python 3 (ipykernel)"
    }
  },
  "nbformat": 4,
  "nbformat_minor": 5
}