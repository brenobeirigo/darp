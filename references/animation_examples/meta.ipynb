{
 "cells": [
  {
   "cell_type": "markdown",
   "metadata": {},
   "source": [
    "The total cost of a route is calculated as the sum of Euclidean distances between of each subsequent pairs:"
   ]
  },
  {
   "cell_type": "code",
   "execution_count": 1,
   "metadata": {},
   "outputs": [],
   "source": [
    "from math import dist\n",
    "\n",
    "\n",
    "def get_cost(route):\n",
    "    cost = 0\n",
    "    for o, d in zip(route[1:], route[:-1]):\n",
    "        cost += dist(N[o], N[d])\n",
    "    return cost\n",
    "\n",
    "\n",
    "def get_total_cost(routes):\n",
    "    total_cost = 0\n",
    "    for route in routes:\n",
    "        total_cost += get_cost(route)\n",
    "    return total_cost"
   ]
  },
  {
   "cell_type": "code",
   "execution_count": 2,
   "metadata": {},
   "outputs": [],
   "source": [
    "import numpy as np\n",
    "import matplotlib.pyplot as plt\n",
    "import matplotlib.patches as patches\n",
    "\n",
    "\n",
    "def add_labels(node_labels, node_coords, ax):\n",
    "    for n, label in enumerate(node_labels):\n",
    "        ax.annotate(\n",
    "            str(label),\n",
    "            xy=node_coords[n],\n",
    "            xytext=(-4, 6),\n",
    "            textcoords=\"offset points\",\n",
    "        )\n",
    "\n",
    "\n",
    "def draw_route(route, coords, ax, color=\"k\"):\n",
    "    edges = []\n",
    "    for o, d in zip(route[:-1], route[1:]):\n",
    "        o_x, o_y = coords[o]\n",
    "        d_x, d_y = coords[d]\n",
    "        edge = patches.FancyArrowPatch(\n",
    "            (o_x, o_y),\n",
    "            (d_x, d_y),\n",
    "            edgecolor=color,\n",
    "            arrowstyle=\"->\",\n",
    "            linewidth=1,\n",
    "            mutation_scale=10,\n",
    "            connectionstyle=\"arc\",  # angle = manhattan connection\n",
    "            zorder=0,\n",
    "        )\n",
    "        ax.add_artist(edge)\n",
    "        edges.append(edge)\n",
    "    return edges"
   ]
  },
  {
   "cell_type": "code",
   "execution_count": 3,
   "metadata": {},
   "outputs": [],
   "source": [
    "from pprint import pprint\n",
    "\n",
    "np.random.seed(42)\n",
    "\n",
    "\n",
    "def get_random_solution(n_customers, n_vehicles):\n",
    "    routes = []\n",
    "    customer_ids = np.arange(1, n_customers + 1)\n",
    "    for _ in range(n_vehicles - 1):\n",
    "        if len(customer_ids) == 1:\n",
    "            break\n",
    "\n",
    "        size = np.random.randint(low=1, high=len(customer_ids))\n",
    "        route = list(np.random.choice(customer_ids, size=size, replace=False))\n",
    "        routes.append(route)\n",
    "        customer_ids = list(set(customer_ids).difference(route))\n",
    "\n",
    "    if len(customer_ids) > 0:\n",
    "        routes.append(customer_ids)\n",
    "    return routes"
   ]
  },
  {
   "cell_type": "code",
   "execution_count": 4,
   "metadata": {},
   "outputs": [],
   "source": [
    "np.random.seed(42)\n",
    "\n",
    "n_customers = 10\n",
    "n_vehicles = 3\n",
    "x_customers = np.random.rand(n_customers)\n",
    "y_customers = np.random.rand(n_customers)\n",
    "x_depot, y_depot = 0.5, 0.5\n",
    "N = [(x_depot, y_depot)] + list(zip(x_customers, y_customers))\n",
    "nodes = list(range(len(N)))"
   ]
  },
  {
   "cell_type": "code",
   "execution_count": 5,
   "metadata": {},
   "outputs": [],
   "source": [
    "n_solutions = 100000\n",
    "solutions = [\n",
    "    get_random_solution(n_customers, n_vehicles) for _ in range(n_solutions)\n",
    "]\n",
    "\n",
    "sorted_sol = sorted(solutions, key=get_total_cost)"
   ]
  },
  {
   "cell_type": "code",
   "execution_count": 6,
   "metadata": {},
   "outputs": [
    {
     "data": {
      "image/png": "[encoded data removed]",
      "text/plain": [
       "<Figure size 432x288 with 1 Axes>"
      ]
     },
     "metadata": {
      "needs_background": "light"
     },
     "output_type": "display_data"
    }
   ],
   "source": [
    "from matplotlib.collections import LineCollection\n",
    "\n",
    "f, a = plt.subplots()\n",
    "edges = draw_route([0, 1, 2, 3, 0], N, a)"
   ]
  },
  {
   "cell_type": "code",
   "execution_count": 7,
   "metadata": {},
   "outputs": [],
   "source": [
    "def draw_points(coords, node_ids, ax):\n",
    "    x, y = zip(*coords)\n",
    "    x_depot, y_depot = x[0], y[0]\n",
    "    x_customers, y_customers = x[1:], y[1:]\n",
    "    ax.scatter(x_customers, y_customers, color=\"k\", s=5, label=\"Customers\")\n",
    "    ax.scatter(\n",
    "        [x_depot], [y_depot], color=\"k\", marker=\"s\", s=20, label=\"Depot\"\n",
    "    )\n",
    "    add_labels(node_ids, coords, ax)\n",
    "\n",
    "\n",
    "def draw_vehicle_routes(routes, route_colors, coords, ax):\n",
    "    for route, color in zip(routes, route_colors):\n",
    "        draw_route([0] + route + [0], coords, ax, color=color)"
   ]
  },
  {
   "cell_type": "code",
   "execution_count": 8,
   "metadata": {},
   "outputs": [
    {
     "data": {
      "application/vnd.jupyter.widget-view+json": {
       "model_id": "5543c19934fe411d9b4775a13a34dfda",
       "version_major": 2,
       "version_minor": 0
      },
      "text/html": [
       "\n",
       "            <div style=\"display: inline-block;\">\n",
       "                <div class=\"jupyter-widgets widget-label\" style=\"text-align: center;\">\n",
       "                    Figure\n",
       "                </div>\n",
       "                <img src='data:image/png;base64,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' width=500.0/>\n",
       "            </div>\n",
       "        "
      ],
      "text/plain": [
       "Canvas(toolbar=Toolbar(toolitems=[('Home', 'Reset original view', 'home', 'home'), ('Back', 'Back to previous …"
      ]
     },
     "metadata": {},
     "output_type": "display_data"
    }
   ],
   "source": [
    "%matplotlib widget\n",
    "import numpy as np\n",
    "import matplotlib.pyplot as plt\n",
    "import seaborn as sns\n",
    "\n",
    "sns.set_context(\"paper\")\n",
    "sns.set_style(\"ticks\")\n",
    "\n",
    "import matplotlib.animation as animation\n",
    "from IPython.display import HTML\n",
    "\n",
    "\n",
    "fig, axis = plt.subplots(figsize=(5, 5))\n",
    "colors = [\"#e41a1c\", \"#377eb8\", \"#4daf4a\", \"#984ea3\", \"#ff7f00\", \"#ffff33\"]\n",
    "\n",
    "\n",
    "def draw_routes(routes, node_ids, coords, vehicle_route_colors, ax):\n",
    "    # Erase previous graph\n",
    "    ax.cla()\n",
    "\n",
    "    # Set limit box\n",
    "    ax.set_xlim(0, 1)\n",
    "    ax.set_ylim(0, 1)\n",
    "\n",
    "    ax.set_title(f\"Cost: {get_total_cost(routes):6.2f}\")\n",
    "\n",
    "    # Draw routes and points\n",
    "    draw_vehicle_routes(routes, vehicle_route_colors, coords, ax)\n",
    "    draw_points(coords, node_ids, ax)\n",
    "\n",
    "    ax.legend()\n",
    "\n",
    "\n",
    "# pprint([get_total_cost(s) for s in sorted_sol][:10])\n",
    "animator = animation.FuncAnimation(\n",
    "    fig,\n",
    "    draw_routes,\n",
    "    sorted_sol[:100],\n",
    "    fargs=(\n",
    "        nodes,\n",
    "        N,\n",
    "        colors,\n",
    "        axis,\n",
    "    ),\n",
    "    interval=10,\n",
    "    repeat=False,\n",
    ")"
   ]
  },
  {
   "cell_type": "markdown",
   "metadata": {},
   "source": [
    "How many?\n",
    "\n",
    "Example: How many possibilities to visit 8 customers using 3 vehicles?\n",
    "\n",
    "Use the [star and bars](https://en.wikipedia.org/wiki/Stars_and_bars_(combinatorics)) method:\n",
    "\n",
    "    *******|| ---> V1=7     V2=0    V3=0\n",
    "    ******|*| ---> V1=6     V2=1    V3=0\n",
    "    ******||* ---> V1=5     V2=0    V3=1\n",
    "    *****|**| ---> V1=5     V2=2    V3=0\n",
    "    *****|*|*\n",
    "    ****|***|\n",
    "    ****|**|*\n",
    "    ***|****|\n",
    "    ***|***|*\n",
    "    **|*****|\n",
    "    **|****|*\n",
    "    **|***|**\n",
    "    **|**|***\n",
    "    **|*|****\n",
    "    *|******|\n",
    "    *|*****|*\n",
    "    *|****|**\n",
    "    *|***|***\n",
    "    *|**|****\n",
    "    *|*|*****\n",
    "    |*******|\n",
    "    |******|*\n",
    "    |*****|**\n",
    "    |****|***\n",
    "    |***|****\n",
    "    |**|*****\n",
    "    |*|******\n",
    "    ||******* ---> V1=0     V2=0    V3=7\n",
    "\n",
    "\n",
    " ways can a vehicle visit 10 customers and 3 vehicles?\n",
    "\n",
    "\n"
   ]
  }
 ],
 "metadata": {
  "interpreter": {
   "hash": "71e7eadd21906384cc547121cf533019bd01393ddc8726c20320b66888b1cc87"
  },
  "kernelspec": {
   "display_name": "envml",
   "language": "python",
   "name": "envml"
  },
  "language_info": {
   "codemirror_mode": {
    "name": "ipython",
    "version": 3
   },
   "file_extension": ".py",
   "mimetype": "text/x-python",
   "name": "python",
   "nbconvert_exporter": "python",
   "pygments_lexer": "ipython3",
   "version": "3.8.10"
  },
  "orig_nbformat": 4
 },
 "nbformat": 4,
 "nbformat_minor": 2
}
